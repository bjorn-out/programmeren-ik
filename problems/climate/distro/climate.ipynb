{
 "cells": [
  {
   "cell_type": "markdown",
   "metadata": {},
   "source": [
    "# Climate\n",
    "\n",
    "![](temperature.png)\n",
    "\n",
    "Laten we een steentje bijdragen aan de klimaatdiscussie en data analyseren die door de ECA (European Climate Assessment) [beschikbaar](http://eca.knmi.nl/dailydata/predefinedseries.php) wordt gemaakt in grote data files. We beperken ons tot data die de maximumtemperatuur beschrijft voor elke dag in De Bilt sinds 1901.\n",
    "\n",
    "Werp eerst eens een blik op `climate.data` (kies hierboven File->Open) en lees bovenin hoe de data gecodeerd is. Juist door deze toelichting voldoet het bestand nou nét niet helemaal aan het CSV-formaat. Die uitleg is heel handig voor mensen, maar niet voor computers. En in de data eronder staan een heleboel spaties die volledig overbodig zijn. Alle gegevens bestaan namelijk uit getallen.\n",
    "\n",
    "We willen onze data in het CSV-formaat krijgen. Dat is een fijn formaat voor o.a. Excel, maar ook om op een makkelijke manier bestanden in te lezen met Python. De naam *comma separated values* zegt het al: alle gegevens in dit formaat zijn gescheiden door een komma.\n",
    "\n",
    "We gaan hieronder drie dingen doen:\n",
    "\n",
    "1. het originele databestand opschonen en converteren naar een \"echte\" CSV\n",
    "2. alle data inlezen vanuit de CSV\n",
    "3. op basis van de data een aantal vragen beantwoorden\n",
    "\n",
    "## Probleemanalyse\n",
    "\n",
    "Voordat je gaat implementeren moet je voor alle onderdelen van de opdracht een probleemanalyse doen. Je hebt je databestand van ons gekregen, dus je weet hoe het eruit ziet. Allereerst moet je zorgvuldig analyseren wat het verschil is tussen het databestand en het gewenste CSV-bestand. Je kunt daarna ook eerst aan de slag met de analyse van de drie vragen die je inhoudelijk moet beantwoorden met hulp van de data. Zonder programmeren moet je al een algoritme kunnen formuleren voor hoe je elk van deze vragen kunt beantwoorden."
   ]
  },
  {
   "cell_type": "markdown",
   "metadata": {},
   "source": [
    "## Import\n",
    "\n",
    "Om te beginnen vind je hier de import waarmee we straks de CSV-functionaliteit kunnen gebruiken. Zorg dat je de cel \"runt\" om te starten: selecteer de cel en klik hierboven op **Run**."
   ]
  },
  {
   "cell_type": "code",
   "execution_count": null,
   "metadata": {},
   "outputs": [],
   "source": [
    "import csv"
   ]
  },
  {
   "cell_type": "markdown",
   "metadata": {},
   "source": [
    "## Preprocessing\n",
    "\n",
    "Zoals gezegd zin het data bestand op een eigenwijze, niet-standaard manier in elkaar. Dat betekent dat we niet direct gebruik kunnen maken van de CSV-modules om data in te lezen en te verwerken. We zullen deze eerst moeten opschonen (preprocessing), en dan de data weer in het gewenste formaat wegschrijven. Het gewenste formaat ziet er als volgt uit. De eerste regel van `climate.csv` moet de **namen** van alle kolommen bevatten, gescheiden door een komma. De volgende regels moeten alle datapunten bevatten, elk op één regel, waarbij alle waardes weer gescheiden worden door een komma.\n",
    "\n",
    "Schrijf in onderstaande cell code die `climate.data` opent, inleest, en wegschrijft als `climate.csv` in het juiste formaat. Zorg dat de eerste rij bestaat uit de kolomnamen, en de rijen daarop volgend uit alle waardes.\n",
    "\n",
    "**Hint:** om een regel over te slaan moet je deze wél inlezen maar niet wegschrijven. Je programma hoeft overigens niet met alle willekeurige databestanden werken, alleen met het bijgeleverde bestand!\n",
    "\n",
    "Om dit deel van de opdracht te doen moet je gebruik maken van de functies die uitgelegd zijn op de IO-uitleg van de website: <https://progik.mprog.nl/theory/io>. Daarnaast heb je waarschijnlijk de functie `str.split` en/of `str.strip` nodig."
   ]
  },
  {
   "cell_type": "code",
   "execution_count": null,
   "metadata": {},
   "outputs": [],
   "source": [
    "with open(\"climate.data\", \"r\") as dataFile, open(\"climate.csv\", \"w\") as csvFile:\n",
    "    # TODO"
   ]
  },
  {
   "cell_type": "markdown",
   "metadata": {},
   "source": [
    "Check, voordat je verder gaat, of je nieuwe bestand `climate.csv` helemaal aan de eisen voldoet! Je kunt ook dit bestand gewoon openen en bekijken vanuit de Notebooks-omgeving."
   ]
  },
  {
   "cell_type": "markdown",
   "metadata": {},
   "source": [
    "## DictReader\n",
    "\n",
    "Omdat je nu een CSV-bestand hebt dat netjes in het juiste formaat staat kun je heel handig de DictReader gebruiken. Deze zorgt ervoor dat je voor een record alle informatie op **naam** kunt opzoeken. In onze dataset kun je dan bijvoorbeeld opvragen wat de STAID is, of wat de TX is. In het voorbeeld hieronder printen we alle kolomnamen (*field names*) en van elke regel de TX-waarde. Je kunt onderstaande code runnen om te checken of je CSV-bestand werkt.\n",
    "\n",
    "**Let op.** Je moet de cel bovenaan (met de `import`) een keer uitgevoerd hebben met **Run** voordat je onderstaande cel kunt runnen! Ook moet het CSV-bestand gevuld zijn met data."
   ]
  },
  {
   "cell_type": "code",
   "execution_count": null,
   "metadata": {},
   "outputs": [],
   "source": [
    "with open('climate.csv', \"r\") as csvFile:\n",
    "    reader = csv.DictReader(csvFile)\n",
    "    print(reader.fieldnames)\n",
    "    for line in reader:\n",
    "        print(line[\"TX\"])"
   ]
  },
  {
   "cell_type": "markdown",
   "metadata": {},
   "source": [
    "## Vraag 1: Wat zijn de meest extreme temperaturen?\n",
    "\n",
    "Tijd voor wat analyse! We gaan onderzoeken wat de maximale en minimale temperatuur gemeten is in De Bilt sinds het begin van de 20e eeuw. We gaan ook kijken op welke dagen dit was.\n",
    "\n",
    "Maak een nieuwe cel die `climate.csv` opent en de maximale en minimale temperatuur vindt en uitprint. Dit doe je elk op een nieuwe regel, met daarnaast op welke dag deze temperatuur gemeten is. Als volgt:\n",
    "\n",
    "    De maximale temperatuur was 34.5 graden op 13 mei 1967\n",
    "    De minimale temperatuur was -1.0 graden op 7 aug 1990\n",
    "\n",
    "Bovenstaande antwoorden zijn natuurlijk fout, je moet zelf de juiste waarden vinden. Om je wat extra uit te dagen willen we ook de datum in het bovenstaande formaat hebben, met de maanden niet in cijfers, maar in 3 letters. Het is handig om hier een aparte functie voor te schrijven!"
   ]
  },
  {
   "cell_type": "code",
   "execution_count": null,
   "metadata": {},
   "outputs": [],
   "source": [
    "with open('climate.csv', \"r\") as csvFile:\n",
    "    reader = csv.DictReader(csvFile)\n",
    "    # TODO"
   ]
  },
  {
   "cell_type": "markdown",
   "metadata": {},
   "source": [
    "## Vraag 2: Wat was de langste vriesperiode?\n",
    "\n",
    "Schrijf in de cell hieronder code dat de lengte van de langste periode dat het aaneengesloten heeft gevroren (temperatuur onder de 0 graden Celsius) uitprint. Print daarnaast wat de laatste dag van deze vriesperiode was. Doe dit weer met de maand in 3 letters. Als volgt:\n",
    "\n",
    "    De langste vriesperiode is 12 dagen en eindigde op 29 jun 1999.\n",
    "    \n",
    "Natuurlijk was de langeste vriesperiode niet 12 dagen in juni in 1999! ;)"
   ]
  },
  {
   "cell_type": "code",
   "execution_count": null,
   "metadata": {},
   "outputs": [],
   "source": [
    "# TODO"
   ]
  },
  {
   "cell_type": "markdown",
   "metadata": {},
   "source": [
    "## Vraag 3: Wanneer was de eerste hittegolf?\n",
    "\n",
    "We spreken in Nederland van een hittegolf als de temperatuur ten minste vijf dagen achtereen minstens 25 graden Celsius was (zomerse dagen) waarvan ten minste op drie dagen 30 graden Celsius of meer (tropische dagen). Schrijf code in de cell hieronder die uitprint wat het *eerste* jaartal is waarin er sprake was van een hittegolf volgens deze regels."
   ]
  },
  {
   "cell_type": "code",
   "execution_count": null,
   "metadata": {},
   "outputs": [],
   "source": [
    "# TODO"
   ]
  }
 ],
 "metadata": {
  "kernelspec": {
   "display_name": "Python 3",
   "language": "python",
   "name": "python3"
  },
  "language_info": {
   "codemirror_mode": {
    "name": "ipython",
    "version": 3
   },
   "file_extension": ".py",
   "mimetype": "text/x-python",
   "name": "python",
   "nbconvert_exporter": "python",
   "pygments_lexer": "ipython3",
   "version": "3.8.5"
  }
 },
 "nbformat": 4,
 "nbformat_minor": 2
}
